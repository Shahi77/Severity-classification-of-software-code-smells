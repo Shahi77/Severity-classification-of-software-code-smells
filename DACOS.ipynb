{
  "cells": [
    {
      "cell_type": "markdown",
      "metadata": {
        "id": "view-in-github",
        "colab_type": "text"
      },
      "source": [
        "<a href=\"https://colab.research.google.com/github/Shahi77/Severity-classification-of-software-code-smells/blob/main/DACOS.ipynb\" target=\"_parent\"><img src=\"https://colab.research.google.com/assets/colab-badge.svg\" alt=\"Open In Colab\"/></a>"
      ]
    },
    {
      "cell_type": "code",
      "source": [
        "ls"
      ],
      "metadata": {
        "id": "_9QiMB8u3iSb",
        "colab": {
          "base_uri": "https://localhost:8080/"
        },
        "outputId": "ac2ae19f-9afe-4ff4-d6de-19c735ddabb6"
      },
      "execution_count": null,
      "outputs": [
        {
          "output_type": "stream",
          "name": "stdout",
          "text": [
            " \u001b[0m\u001b[01;34msample_data\u001b[0m/                                'Shahi Dataset for ML - method_metrics1.csv'\n",
            "'Shahi Dataset for ML - annotation1.csv'     'Shahi Dataset for ML - method_metrics2.csv'\n",
            "'Shahi Dataset for ML - class_metrics1.csv'  'Shahi Dataset for ML - sample1.csv'\n",
            "'Shahi Dataset for ML - class_metrics2.csv'  'Shahi Dataset for ML - sample2.csv'\n",
            "'Shahi Dataset for ML - entry.csv'\n"
          ]
        }
      ]
    },
    {
      "cell_type": "code",
      "source": [
        "import pandas as pd\n",
        "\n",
        "df = pd.read_csv(\"Shahi Dataset for ML - annotation1.csv\")\n",
        "print(df.head())\n",
        "print(df.info())\n",
        "print(df.describe())\n"
      ],
      "metadata": {
        "colab": {
          "base_uri": "https://localhost:8080/"
        },
        "id": "45MiEDtOvY9D",
        "outputId": "dbe9ffe2-bb42-4b86-d67f-5aeab2d9df3e"
      },
      "execution_count": null,
      "outputs": [
        {
          "output_type": "stream",
          "name": "stdout",
          "text": [
            "      id  iscm  isim  islp  isma  is_smell  sample_id\n",
            "0  11940     1     0     0     0         1     102236\n",
            "1  11939     0     0     0     0         0     102227\n",
            "2  11938     1     0     0     0         1     102234\n",
            "3  11937     0     0     0     0         0     102129\n",
            "4  11936     1     0     0     0         1     102127\n",
            "<class 'pandas.core.frame.DataFrame'>\n",
            "RangeIndex: 10267 entries, 0 to 10266\n",
            "Data columns (total 7 columns):\n",
            " #   Column     Non-Null Count  Dtype\n",
            "---  ------     --------------  -----\n",
            " 0   id         10267 non-null  int64\n",
            " 1   iscm       10267 non-null  int64\n",
            " 2   isim       10267 non-null  int64\n",
            " 3   islp       10267 non-null  int64\n",
            " 4   isma       10267 non-null  int64\n",
            " 5   is_smell   10267 non-null  int64\n",
            " 6   sample_id  10267 non-null  int64\n",
            "dtypes: int64(7)\n",
            "memory usage: 561.6 KB\n",
            "None\n",
            "                id          iscm     isim          islp          isma  \\\n",
            "count  10267.00000  10267.000000  10267.0  10267.000000  10267.000000   \n",
            "mean    6710.19402      0.293464      0.0      0.222558      0.243012   \n",
            "std     3376.45845      0.455372      0.0      0.415984      0.428923   \n",
            "min        6.00000      0.000000      0.0      0.000000      0.000000   \n",
            "25%     3896.50000      0.000000      0.0      0.000000      0.000000   \n",
            "50%     6995.00000      0.000000      0.0      0.000000      0.000000   \n",
            "75%     9601.50000      1.000000      0.0      0.000000      0.000000   \n",
            "max    12168.00000      1.000000      0.0      1.000000      1.000000   \n",
            "\n",
            "           is_smell      sample_id  \n",
            "count  10267.000000   10267.000000  \n",
            "mean       0.613616   62534.462842  \n",
            "std        0.486944   32335.242271  \n",
            "min        0.000000       3.000000  \n",
            "25%        0.000000   47512.000000  \n",
            "50%        1.000000   70344.000000  \n",
            "75%        1.000000   87968.000000  \n",
            "max        1.000000  106565.000000  \n"
          ]
        }
      ]
    },
    {
      "cell_type": "code",
      "source": [
        "import pandas as pd\n",
        "\n",
        "df = pd.read_csv(\"Shahi Dataset for ML - class_metrics1.csv\")\n",
        "print(df.head())\n",
        "print(df.info())\n",
        "print(df.describe())"
      ],
      "metadata": {
        "colab": {
          "base_uri": "https://localhost:8080/"
        },
        "id": "PnQAlAqUvpM8",
        "outputId": "37450b69-e177-47c4-d604-f2b6abefa2f0"
      },
      "execution_count": null,
      "outputs": [
        {
          "output_type": "stream",
          "name": "stdout",
          "text": [
            "   id  dit  fanin  fanout      lcom  loc  nc  nof  nom  nopf  nopm  wmc  \\\n",
            "0   1    0      1       1  0.000000   13   0    1    2     0     2    2   \n",
            "1   2    0      1       1  0.666667   16   0    1    3     0     2    3   \n",
            "2   3    0      0       1 -1.000000    8   0    0    1     0     1    1   \n",
            "3   4    0      0       2 -1.000000   13   0    0    2     0     2    3   \n",
            "4   5    0      0       1 -1.000000    6   0    0    1     0     1    1   \n",
            "\n",
            "                    package_name            project_name        type_name  \n",
            "0        com.blankj.launcher.app  Blankj_AndroidUtilCode      LauncherApp  \n",
            "1            com.blankj.main.app  Blankj_AndroidUtilCode          MainApp  \n",
            "2        com.blankj.mock.subutil  Blankj_AndroidUtilCode   SubUtilApiMock  \n",
            "3       com.blankj.mock.utilcode  Blankj_AndroidUtilCode  UtilCodeApiMock  \n",
            "4  com.blankj.subutil.export.api  Blankj_AndroidUtilCode       SubUtilApi  \n",
            "<class 'pandas.core.frame.DataFrame'>\n",
            "RangeIndex: 14458 entries, 0 to 14457\n",
            "Data columns (total 15 columns):\n",
            " #   Column        Non-Null Count  Dtype  \n",
            "---  ------        --------------  -----  \n",
            " 0   id            14458 non-null  int64  \n",
            " 1   dit           14458 non-null  int64  \n",
            " 2   fanin         14458 non-null  int64  \n",
            " 3   fanout        14458 non-null  int64  \n",
            " 4   lcom          14458 non-null  float64\n",
            " 5   loc           14458 non-null  int64  \n",
            " 6   nc            14458 non-null  int64  \n",
            " 7   nof           14458 non-null  int64  \n",
            " 8   nom           14458 non-null  int64  \n",
            " 9   nopf          14458 non-null  int64  \n",
            " 10  nopm          14458 non-null  int64  \n",
            " 11  wmc           14458 non-null  int64  \n",
            " 12  package_name  14458 non-null  object \n",
            " 13  project_name  14458 non-null  object \n",
            " 14  type_name     14457 non-null  object \n",
            "dtypes: float64(1), int64(11), object(3)\n",
            "memory usage: 1.7+ MB\n",
            "None\n",
            "                 id           dit         fanin        fanout          lcom  \\\n",
            "count  14458.000000  14458.000000  14458.000000  14458.000000  14458.000000   \n",
            "mean    7229.500000      0.224997      2.459884      2.459884     -0.328246   \n",
            "std     4173.809431      0.546077      9.806396      4.152795      0.673179   \n",
            "min        1.000000      0.000000      0.000000      0.000000     -1.000000   \n",
            "25%     3615.250000      0.000000      0.000000      0.000000     -1.000000   \n",
            "50%     7229.500000      0.000000      0.000000      1.000000      0.000000   \n",
            "75%    10843.750000      0.000000      2.000000      3.000000      0.133333   \n",
            "max    14458.000000      7.000000    305.000000     58.000000      1.000000   \n",
            "\n",
            "                loc            nc           nof           nom          nopf  \\\n",
            "count  14458.000000  14458.000000  14458.000000  14458.000000  14458.000000   \n",
            "mean      71.655347      0.198160      3.170217      9.152511      0.539632   \n",
            "std      152.957399      1.429955      8.338104     27.404061      6.795635   \n",
            "min        0.000000      0.000000      0.000000      0.000000      0.000000   \n",
            "25%       11.000000      0.000000      0.000000      1.000000      0.000000   \n",
            "50%       28.000000      0.000000      1.000000      3.000000      0.000000   \n",
            "75%       70.000000      0.000000      4.000000      8.000000      0.000000   \n",
            "max     3408.000000     76.000000    509.000000    623.000000    509.000000   \n",
            "\n",
            "               nopm           wmc  \n",
            "count  14458.000000  14458.000000  \n",
            "mean       7.108106     13.141306  \n",
            "std       25.673365     32.447224  \n",
            "min        0.000000      0.000000  \n",
            "25%        0.000000      1.000000  \n",
            "50%        2.000000      4.000000  \n",
            "75%        5.000000     12.000000  \n",
            "max      609.000000    635.000000  \n"
          ]
        }
      ]
    },
    {
      "cell_type": "code",
      "source": [
        "import pandas as pd\n",
        "\n",
        "df = pd.read_csv(\"Shahi Dataset for ML - class_metrics2.csv\")\n",
        "print(df.head())\n",
        "print(df.info())\n",
        "print(df.describe())"
      ],
      "metadata": {
        "colab": {
          "base_uri": "https://localhost:8080/"
        },
        "id": "KLdHbvbhvtrY",
        "outputId": "9f3bda6c-9817-4e82-8d79-9a17298124c4"
      },
      "execution_count": null,
      "outputs": [
        {
          "output_type": "stream",
          "name": "stdout",
          "text": [
            "   id  dit  fanin  fanout      lcom  loc  nc  nof  nom  nopf  nopm  wmc  \\\n",
            "0   1    0      1       1  0.000000   13   0    1    2     0     2    2   \n",
            "1   2    0      1       1  0.666667   16   0    1    3     0     2    3   \n",
            "2   3    0      0       1 -1.000000    8   0    0    1     0     1    1   \n",
            "3   4    0      0       2 -1.000000   13   0    0    2     0     2    3   \n",
            "4   5    0      0       1 -1.000000    6   0    0    1     0     1    1   \n",
            "\n",
            "                    package_name            project_name        type_name  \n",
            "0        com.blankj.launcher.app  Blankj_AndroidUtilCode      LauncherApp  \n",
            "1            com.blankj.main.app  Blankj_AndroidUtilCode          MainApp  \n",
            "2        com.blankj.mock.subutil  Blankj_AndroidUtilCode   SubUtilApiMock  \n",
            "3       com.blankj.mock.utilcode  Blankj_AndroidUtilCode  UtilCodeApiMock  \n",
            "4  com.blankj.subutil.export.api  Blankj_AndroidUtilCode       SubUtilApi  \n",
            "<class 'pandas.core.frame.DataFrame'>\n",
            "RangeIndex: 14458 entries, 0 to 14457\n",
            "Data columns (total 15 columns):\n",
            " #   Column        Non-Null Count  Dtype  \n",
            "---  ------        --------------  -----  \n",
            " 0   id            14458 non-null  int64  \n",
            " 1   dit           14458 non-null  int64  \n",
            " 2   fanin         14458 non-null  int64  \n",
            " 3   fanout        14458 non-null  int64  \n",
            " 4   lcom          14458 non-null  float64\n",
            " 5   loc           14458 non-null  int64  \n",
            " 6   nc            14458 non-null  int64  \n",
            " 7   nof           14458 non-null  int64  \n",
            " 8   nom           14458 non-null  int64  \n",
            " 9   nopf          14458 non-null  int64  \n",
            " 10  nopm          14458 non-null  int64  \n",
            " 11  wmc           14458 non-null  int64  \n",
            " 12  package_name  14458 non-null  object \n",
            " 13  project_name  14458 non-null  object \n",
            " 14  type_name     14457 non-null  object \n",
            "dtypes: float64(1), int64(11), object(3)\n",
            "memory usage: 1.7+ MB\n",
            "None\n",
            "                 id           dit         fanin        fanout          lcom  \\\n",
            "count  14458.000000  14458.000000  14458.000000  14458.000000  14458.000000   \n",
            "mean    7229.500000      0.224997      2.459884      2.459884     -0.328246   \n",
            "std     4173.809431      0.546077      9.806396      4.152795      0.673179   \n",
            "min        1.000000      0.000000      0.000000      0.000000     -1.000000   \n",
            "25%     3615.250000      0.000000      0.000000      0.000000     -1.000000   \n",
            "50%     7229.500000      0.000000      0.000000      1.000000      0.000000   \n",
            "75%    10843.750000      0.000000      2.000000      3.000000      0.133333   \n",
            "max    14458.000000      7.000000    305.000000     58.000000      1.000000   \n",
            "\n",
            "                loc            nc           nof           nom          nopf  \\\n",
            "count  14458.000000  14458.000000  14458.000000  14458.000000  14458.000000   \n",
            "mean      71.655347      0.198160      3.170217      9.152511      0.539632   \n",
            "std      152.957399      1.429955      8.338104     27.404061      6.795635   \n",
            "min        0.000000      0.000000      0.000000      0.000000      0.000000   \n",
            "25%       11.000000      0.000000      0.000000      1.000000      0.000000   \n",
            "50%       28.000000      0.000000      1.000000      3.000000      0.000000   \n",
            "75%       70.000000      0.000000      4.000000      8.000000      0.000000   \n",
            "max     3408.000000     76.000000    509.000000    623.000000    509.000000   \n",
            "\n",
            "               nopm           wmc  \n",
            "count  14458.000000  14458.000000  \n",
            "mean       7.108106     13.141306  \n",
            "std       25.673365     32.447224  \n",
            "min        0.000000      0.000000  \n",
            "25%        0.000000      1.000000  \n",
            "50%        2.000000      4.000000  \n",
            "75%        5.000000     12.000000  \n",
            "max      609.000000    635.000000  \n"
          ]
        }
      ]
    },
    {
      "cell_type": "code",
      "source": [
        "import pandas as pd\n",
        "\n",
        "df1 = pd.read_csv(\"Shahi Dataset for ML - class_metrics1.csv\")\n",
        "df2 = pd.read_csv(\"Shahi Dataset for ML - class_metrics2.csv\")\n",
        "\n",
        "if df1.equals(df2):\n",
        "    print(\"Both datasets are identical.\")\n",
        "else:\n",
        "    print(\"The datasets have differences.\")"
      ],
      "metadata": {
        "colab": {
          "base_uri": "https://localhost:8080/"
        },
        "id": "tOLmW3CZw-KW",
        "outputId": "d3390ef9-eee1-403c-c117-ba4a96b2f355"
      },
      "execution_count": null,
      "outputs": [
        {
          "output_type": "stream",
          "name": "stdout",
          "text": [
            "Both datasets are identical.\n"
          ]
        }
      ]
    },
    {
      "cell_type": "code",
      "source": [
        "import pandas as pd\n",
        "\n",
        "df = pd.read_csv(\"Shahi Dataset for ML - entry.csv\")\n",
        "print(df.head())\n",
        "print(df.info())\n",
        "print(df.describe())"
      ],
      "metadata": {
        "colab": {
          "base_uri": "https://localhost:8080/"
        },
        "id": "7N-tCBprvvS5",
        "outputId": "62ee4c16-59f2-4911-af65-fb4aeb149f2e"
      },
      "execution_count": null,
      "outputs": [
        {
          "output_type": "stream",
          "name": "stdout",
          "text": [
            "     id  sampleId  positiveAnnotations  negativeAnnotations  smellPresented\n",
            "0  4503       619                    0                    0               2\n",
            "1  4504       984                    0                    0               2\n",
            "2  4505       988                    0                    0               2\n",
            "3  4506      1009                    0                    0               2\n",
            "4  4507      1024                    0                    0               2\n",
            "<class 'pandas.core.frame.DataFrame'>\n",
            "RangeIndex: 207605 entries, 0 to 207604\n",
            "Data columns (total 5 columns):\n",
            " #   Column               Non-Null Count   Dtype\n",
            "---  ------               --------------   -----\n",
            " 0   id                   207605 non-null  int64\n",
            " 1   sampleId             207605 non-null  int64\n",
            " 2   positiveAnnotations  207605 non-null  int64\n",
            " 3   negativeAnnotations  207605 non-null  int64\n",
            " 4   smellPresented       207605 non-null  int64\n",
            "dtypes: int64(5)\n",
            "memory usage: 7.9 MB\n",
            "None\n",
            "                  id       sampleId  positiveAnnotations  negativeAnnotations  \\\n",
            "count  207605.000000  207605.000000             207605.0             207605.0   \n",
            "mean   139254.234720   51729.032615                  0.0                  0.0   \n",
            "std     78898.036513   33444.361858                  0.0                  0.0   \n",
            "min      4503.000000       1.000000                  0.0                  0.0   \n",
            "25%     71622.000000   21105.000000                  0.0                  0.0   \n",
            "50%    123523.000000   47073.000000                  0.0                  0.0   \n",
            "75%    213275.000000   81853.000000                  0.0                  0.0   \n",
            "max    265176.000000  110004.000000                  0.0                  0.0   \n",
            "\n",
            "       smellPresented  \n",
            "count   207605.000000  \n",
            "mean         5.332829  \n",
            "std          0.737240  \n",
            "min          1.000000  \n",
            "25%          5.000000  \n",
            "50%          5.000000  \n",
            "75%          6.000000  \n",
            "max          6.000000  \n"
          ]
        }
      ]
    },
    {
      "cell_type": "code",
      "source": [
        "import pandas as pd\n",
        "\n",
        "df = pd.read_csv(\"Shahi Dataset for ML - method_metrics1.csv\")\n",
        "print(df.head())\n",
        "print(df.info())\n",
        "print(df.describe())"
      ],
      "metadata": {
        "colab": {
          "base_uri": "https://localhost:8080/"
        },
        "id": "t5yB4ehXv0d0",
        "outputId": "106ae531-2f42-4101-884b-05a6a81506a0"
      },
      "execution_count": null,
      "outputs": [
        {
          "output_type": "stream",
          "name": "stdout",
          "text": [
            "   id  cc  loc  pc        method_name             package_name  \\\n",
            "0   1   1    3   0        getInstance  com.blankj.launcher.app   \n",
            "1   2   1    4   0           onCreate  com.blankj.launcher.app   \n",
            "2   3   1    3   0        getInstance      com.blankj.main.app   \n",
            "3   4   1    3   1  attachBaseContext      com.blankj.main.app   \n",
            "4   5   1    4   0           onCreate      com.blankj.main.app   \n",
            "\n",
            "             project_name    type_name  \n",
            "0  Blankj_AndroidUtilCode  LauncherApp  \n",
            "1  Blankj_AndroidUtilCode  LauncherApp  \n",
            "2  Blankj_AndroidUtilCode      MainApp  \n",
            "3  Blankj_AndroidUtilCode      MainApp  \n",
            "4  Blankj_AndroidUtilCode      MainApp  \n",
            "<class 'pandas.core.frame.DataFrame'>\n",
            "RangeIndex: 110982 entries, 0 to 110981\n",
            "Data columns (total 8 columns):\n",
            " #   Column        Non-Null Count   Dtype \n",
            "---  ------        --------------   ----- \n",
            " 0   id            110982 non-null  int64 \n",
            " 1   cc            110982 non-null  int64 \n",
            " 2   loc           110982 non-null  int64 \n",
            " 3   pc            110982 non-null  int64 \n",
            " 4   method_name   110982 non-null  object\n",
            " 5   package_name  110982 non-null  object\n",
            " 6   project_name  110982 non-null  object\n",
            " 7   type_name     110982 non-null  object\n",
            "dtypes: int64(4), object(4)\n",
            "memory usage: 6.8+ MB\n",
            "None\n",
            "                  id             cc            loc             pc\n",
            "count  110982.000000  110982.000000  110982.000000  110982.000000\n",
            "mean    88932.080491       1.366933       5.303815       1.024977\n",
            "std     68492.040851       1.467139       7.262966       1.048352\n",
            "min         1.000000       1.000000       0.000000       0.000000\n",
            "25%     27746.250000       1.000000       3.000000       0.000000\n",
            "50%     55491.500000       1.000000       4.000000       1.000000\n",
            "75%    162252.750000       1.000000       4.000000       1.000000\n",
            "max    189998.000000      75.000000     366.000000      15.000000\n"
          ]
        }
      ]
    },
    {
      "cell_type": "code",
      "source": [
        "import pandas as pd\n",
        "\n",
        "df = pd.read_csv(\"Shahi Dataset for ML - method_metrics2.csv\")\n",
        "print(df.head())\n",
        "print(df.info())\n",
        "print(df.describe())"
      ],
      "metadata": {
        "colab": {
          "base_uri": "https://localhost:8080/"
        },
        "id": "VbQ9y6PMv2VA",
        "outputId": "0af06802-cf4b-4ea0-99a4-09b63d66cdf3"
      },
      "execution_count": null,
      "outputs": [
        {
          "output_type": "stream",
          "name": "stdout",
          "text": [
            "   id  cc  loc  pc        method_name             package_name  \\\n",
            "0   1   1    3   0        getInstance  com.blankj.launcher.app   \n",
            "1   2   1    4   0           onCreate  com.blankj.launcher.app   \n",
            "2   3   1    3   0        getInstance      com.blankj.main.app   \n",
            "3   4   1    3   1  attachBaseContext      com.blankj.main.app   \n",
            "4   5   1    4   0           onCreate      com.blankj.main.app   \n",
            "\n",
            "             project_name    type_name  \n",
            "0  Blankj_AndroidUtilCode  LauncherApp  \n",
            "1  Blankj_AndroidUtilCode  LauncherApp  \n",
            "2  Blankj_AndroidUtilCode      MainApp  \n",
            "3  Blankj_AndroidUtilCode      MainApp  \n",
            "4  Blankj_AndroidUtilCode      MainApp  \n",
            "<class 'pandas.core.frame.DataFrame'>\n",
            "RangeIndex: 110982 entries, 0 to 110981\n",
            "Data columns (total 8 columns):\n",
            " #   Column        Non-Null Count   Dtype \n",
            "---  ------        --------------   ----- \n",
            " 0   id            110982 non-null  int64 \n",
            " 1   cc            110982 non-null  int64 \n",
            " 2   loc           110982 non-null  int64 \n",
            " 3   pc            110982 non-null  int64 \n",
            " 4   method_name   110982 non-null  object\n",
            " 5   package_name  110982 non-null  object\n",
            " 6   project_name  110982 non-null  object\n",
            " 7   type_name     110982 non-null  object\n",
            "dtypes: int64(4), object(4)\n",
            "memory usage: 6.8+ MB\n",
            "None\n",
            "                  id             cc            loc             pc\n",
            "count  110982.000000  110982.000000  110982.000000  110982.000000\n",
            "mean    88932.080491       1.366933       5.303815       1.024977\n",
            "std     68492.040851       1.467139       7.262966       1.048352\n",
            "min         1.000000       1.000000       0.000000       0.000000\n",
            "25%     27746.250000       1.000000       3.000000       0.000000\n",
            "50%     55491.500000       1.000000       4.000000       1.000000\n",
            "75%    162252.750000       1.000000       4.000000       1.000000\n",
            "max    189998.000000      75.000000     366.000000      15.000000\n"
          ]
        }
      ]
    },
    {
      "cell_type": "code",
      "source": [
        "import pandas as pd\n",
        "\n",
        "df1 = pd.read_csv(\"Shahi Dataset for ML - method_metrics1.csv\")\n",
        "df2 = pd.read_csv(\"Shahi Dataset for ML - method_metrics2.csv\")\n",
        "\n",
        "if df1.equals(df2):\n",
        "    print(\"Both datasets are identical.\")\n",
        "else:\n",
        "    print(\"The datasets have differences.\")\n"
      ],
      "metadata": {
        "colab": {
          "base_uri": "https://localhost:8080/"
        },
        "id": "SvDQHENBw6WV",
        "outputId": "290a89d3-c873-475b-ac0e-6d100673864f"
      },
      "execution_count": null,
      "outputs": [
        {
          "output_type": "stream",
          "name": "stdout",
          "text": [
            "Both datasets are identical.\n"
          ]
        }
      ]
    },
    {
      "cell_type": "code",
      "source": [
        "import pandas as pd\n",
        "\n",
        "df = pd.read_csv(\"Shahi Dataset for ML - sample1.csv\")\n",
        "print(df.head())\n",
        "print(df.info())\n",
        "print(df.describe())"
      ],
      "metadata": {
        "colab": {
          "base_uri": "https://localhost:8080/"
        },
        "id": "ltaqD7Ghv6Lw",
        "outputId": "b7d25d51-4275-4916-c856-19bcce5300c2"
      },
      "execution_count": null,
      "outputs": [
        {
          "output_type": "stream",
          "name": "stdout",
          "text": [
            "   id  designite_id  has_smell  is_class  \\\n",
            "0   1           370          0         1   \n",
            "1   2           371          0         1   \n",
            "2   3           379          1         1   \n",
            "3   4             7          0         1   \n",
            "4   5             8          0         1   \n",
            "\n",
            "                                        path_to_file            project_name  \\\n",
            "0  /codesplit_java_class/Blankj_AndroidUtilCode/B...  Blankj_AndroidUtilCode   \n",
            "1  /codesplit_java_class/Blankj_AndroidUtilCode/B...  Blankj_AndroidUtilCode   \n",
            "2  /codesplit_java_class/Blankj_AndroidUtilCode/B...  Blankj_AndroidUtilCode   \n",
            "3  /codesplit_java_class/Blankj_AndroidUtilCode/B...  Blankj_AndroidUtilCode   \n",
            "4  /codesplit_java_class/Blankj_AndroidUtilCode/B...  Blankj_AndroidUtilCode   \n",
            "\n",
            "   sample_constraints smells  \n",
            "0                   0    NaN  \n",
            "1                   0    NaN  \n",
            "2                   2      3  \n",
            "3                   0    NaN  \n",
            "4                   0    NaN  \n",
            "<class 'pandas.core.frame.DataFrame'>\n",
            "RangeIndex: 99387 entries, 0 to 99386\n",
            "Data columns (total 8 columns):\n",
            " #   Column              Non-Null Count  Dtype \n",
            "---  ------              --------------  ----- \n",
            " 0   id                  99387 non-null  int64 \n",
            " 1   designite_id        99387 non-null  int64 \n",
            " 2   has_smell           99387 non-null  int64 \n",
            " 3   is_class            99387 non-null  int64 \n",
            " 4   path_to_file        99387 non-null  object\n",
            " 5   project_name        99387 non-null  object\n",
            " 6   sample_constraints  99387 non-null  int64 \n",
            " 7   smells              5188 non-null   object\n",
            "dtypes: int64(5), object(3)\n",
            "memory usage: 6.1+ MB\n",
            "None\n",
            "                  id   designite_id     has_smell      is_class  \\\n",
            "count   99387.000000   99387.000000  99387.000000  99387.000000   \n",
            "mean    54700.469870   83881.566201      0.052200      0.119372   \n",
            "std     33374.901977   70881.098146      0.222431      0.324227   \n",
            "min         1.000000      -1.000000      0.000000      0.000000   \n",
            "25%     24847.500000   17326.500000      0.000000      0.000000   \n",
            "50%     49694.000000   53008.000000      0.000000      0.000000   \n",
            "75%     85157.500000  160505.500000      0.000000      0.000000   \n",
            "max    110004.000000  189998.000000      1.000000      1.000000   \n",
            "\n",
            "       sample_constraints  \n",
            "count        99387.000000  \n",
            "mean             0.092809  \n",
            "std              0.602084  \n",
            "min              0.000000  \n",
            "25%              0.000000  \n",
            "50%              0.000000  \n",
            "75%              0.000000  \n",
            "max             67.000000  \n"
          ]
        }
      ]
    },
    {
      "cell_type": "code",
      "source": [
        "import pandas as pd\n",
        "\n",
        "df = pd.read_csv(\"Shahi Dataset for ML - sample2.csv\")\n",
        "print(df.head())\n",
        "print(df.info())\n",
        "print(df.describe())"
      ],
      "metadata": {
        "colab": {
          "base_uri": "https://localhost:8080/"
        },
        "id": "IS3cn2Xcv8RL",
        "outputId": "ab3d7669-7276-4b86-f620-57204814c65b"
      },
      "execution_count": null,
      "outputs": [
        {
          "output_type": "stream",
          "name": "stdout",
          "text": [
            "   id  designite_id  has_smell  is_class  \\\n",
            "0   1           370          0         1   \n",
            "1   2           371          0         1   \n",
            "2   3           379          1         1   \n",
            "3   4             7          0         1   \n",
            "4   5             8          0         1   \n",
            "\n",
            "                                        path_to_file            project_name  \\\n",
            "0  /codesplit_java_class/Blankj_AndroidUtilCode/B...  Blankj_AndroidUtilCode   \n",
            "1  /codesplit_java_class/Blankj_AndroidUtilCode/B...  Blankj_AndroidUtilCode   \n",
            "2  /codesplit_java_class/Blankj_AndroidUtilCode/B...  Blankj_AndroidUtilCode   \n",
            "3  /codesplit_java_class/Blankj_AndroidUtilCode/B...  Blankj_AndroidUtilCode   \n",
            "4  /codesplit_java_class/Blankj_AndroidUtilCode/B...  Blankj_AndroidUtilCode   \n",
            "\n",
            "   sample_constraints smells  \n",
            "0                   0    NaN  \n",
            "1                   0    NaN  \n",
            "2                   2      3  \n",
            "3                   0    NaN  \n",
            "4                   0    NaN  \n",
            "<class 'pandas.core.frame.DataFrame'>\n",
            "RangeIndex: 99387 entries, 0 to 99386\n",
            "Data columns (total 8 columns):\n",
            " #   Column              Non-Null Count  Dtype \n",
            "---  ------              --------------  ----- \n",
            " 0   id                  99387 non-null  int64 \n",
            " 1   designite_id        99387 non-null  int64 \n",
            " 2   has_smell           99387 non-null  int64 \n",
            " 3   is_class            99387 non-null  int64 \n",
            " 4   path_to_file        99387 non-null  object\n",
            " 5   project_name        99387 non-null  object\n",
            " 6   sample_constraints  99387 non-null  int64 \n",
            " 7   smells              5188 non-null   object\n",
            "dtypes: int64(5), object(3)\n",
            "memory usage: 6.1+ MB\n",
            "None\n",
            "                  id   designite_id     has_smell      is_class  \\\n",
            "count   99387.000000   99387.000000  99387.000000  99387.000000   \n",
            "mean    54700.469870   83881.566201      0.052200      0.119372   \n",
            "std     33374.901977   70881.098146      0.222431      0.324227   \n",
            "min         1.000000      -1.000000      0.000000      0.000000   \n",
            "25%     24847.500000   17326.500000      0.000000      0.000000   \n",
            "50%     49694.000000   53008.000000      0.000000      0.000000   \n",
            "75%     85157.500000  160505.500000      0.000000      0.000000   \n",
            "max    110004.000000  189998.000000      1.000000      1.000000   \n",
            "\n",
            "       sample_constraints  \n",
            "count        99387.000000  \n",
            "mean             0.092809  \n",
            "std              0.602084  \n",
            "min              0.000000  \n",
            "25%              0.000000  \n",
            "50%              0.000000  \n",
            "75%              0.000000  \n",
            "max             67.000000  \n"
          ]
        }
      ]
    },
    {
      "cell_type": "code",
      "source": [
        "import pandas as pd\n",
        "\n",
        "df1 = pd.read_csv(\"Shahi Dataset for ML - sample1.csv\")\n",
        "df2 = pd.read_csv(\"Shahi Dataset for ML - sample2.csv\")\n",
        "\n",
        "if df1.equals(df2):\n",
        "    print(\"Both datasets are identical.\")\n",
        "else:\n",
        "    print(\"The datasets have differences.\")"
      ],
      "metadata": {
        "colab": {
          "base_uri": "https://localhost:8080/"
        },
        "id": "BvXdMprZxDsV",
        "outputId": "bec90379-91e1-4ec9-fb92-916ce29eba26"
      },
      "execution_count": null,
      "outputs": [
        {
          "output_type": "stream",
          "name": "stdout",
          "text": [
            "Both datasets are identical.\n"
          ]
        }
      ]
    },
    {
      "cell_type": "code",
      "source": [
        "import pandas as pd\n",
        "\n",
        "# Load files\n",
        "annotations = pd.read_csv(\"annotation.csv\")\n",
        "class_metrics = pd.read_csv(\"class_metrics.csv\")\n",
        "method_metrics = pd.read_csv(\"method_metrics.csv\")\n",
        "entry = pd.read_csv(\"entry.csv\")\n",
        "sample = pd.read_csv(\"sample.csv\")\n",
        "\n",
        "# Check basic info\n",
        "for name, df in [(\"Annotations\", annotations), (\"Class Metrics\", class_metrics),\n",
        "                 (\"Method Metrics\", method_metrics), (\"Entry\", entry), (\"Sample\", sample)]:\n",
        "    print(f\"\\n--- {name} ---\")\n",
        "    print(df.info())  # Column types and missing values\n",
        "    print(df.head())  # First few rows\n"
      ],
      "metadata": {
        "colab": {
          "base_uri": "https://localhost:8080/"
        },
        "id": "mLrXhPvIxrMV",
        "outputId": "89b3a8ec-6298-4462-936b-ed2db4502626"
      },
      "execution_count": null,
      "outputs": [
        {
          "output_type": "stream",
          "name": "stdout",
          "text": [
            "\n",
            "--- Annotations ---\n",
            "<class 'pandas.core.frame.DataFrame'>\n",
            "RangeIndex: 10267 entries, 0 to 10266\n",
            "Data columns (total 7 columns):\n",
            " #   Column     Non-Null Count  Dtype\n",
            "---  ------     --------------  -----\n",
            " 0   id         10267 non-null  int64\n",
            " 1   iscm       10267 non-null  int64\n",
            " 2   isim       10267 non-null  int64\n",
            " 3   islp       10267 non-null  int64\n",
            " 4   isma       10267 non-null  int64\n",
            " 5   is_smell   10267 non-null  int64\n",
            " 6   sample_id  10267 non-null  int64\n",
            "dtypes: int64(7)\n",
            "memory usage: 561.6 KB\n",
            "None\n",
            "      id  iscm  isim  islp  isma  is_smell  sample_id\n",
            "0  11940     1     0     0     0         1     102236\n",
            "1  11939     0     0     0     0         0     102227\n",
            "2  11938     1     0     0     0         1     102234\n",
            "3  11937     0     0     0     0         0     102129\n",
            "4  11936     1     0     0     0         1     102127\n",
            "\n",
            "--- Class Metrics ---\n",
            "<class 'pandas.core.frame.DataFrame'>\n",
            "RangeIndex: 14458 entries, 0 to 14457\n",
            "Data columns (total 15 columns):\n",
            " #   Column        Non-Null Count  Dtype  \n",
            "---  ------        --------------  -----  \n",
            " 0   id            14458 non-null  int64  \n",
            " 1   dit           14458 non-null  int64  \n",
            " 2   fanin         14458 non-null  int64  \n",
            " 3   fanout        14458 non-null  int64  \n",
            " 4   lcom          14458 non-null  float64\n",
            " 5   loc           14458 non-null  int64  \n",
            " 6   nc            14458 non-null  int64  \n",
            " 7   nof           14458 non-null  int64  \n",
            " 8   nom           14458 non-null  int64  \n",
            " 9   nopf          14458 non-null  int64  \n",
            " 10  nopm          14458 non-null  int64  \n",
            " 11  wmc           14458 non-null  int64  \n",
            " 12  package_name  14458 non-null  object \n",
            " 13  project_name  14458 non-null  object \n",
            " 14  type_name     14457 non-null  object \n",
            "dtypes: float64(1), int64(11), object(3)\n",
            "memory usage: 1.7+ MB\n",
            "None\n",
            "   id  dit  fanin  fanout      lcom  loc  nc  nof  nom  nopf  nopm  wmc  \\\n",
            "0   1    0      1       1  0.000000   13   0    1    2     0     2    2   \n",
            "1   2    0      1       1  0.666667   16   0    1    3     0     2    3   \n",
            "2   3    0      0       1 -1.000000    8   0    0    1     0     1    1   \n",
            "3   4    0      0       2 -1.000000   13   0    0    2     0     2    3   \n",
            "4   5    0      0       1 -1.000000    6   0    0    1     0     1    1   \n",
            "\n",
            "                    package_name            project_name        type_name  \n",
            "0        com.blankj.launcher.app  Blankj_AndroidUtilCode      LauncherApp  \n",
            "1            com.blankj.main.app  Blankj_AndroidUtilCode          MainApp  \n",
            "2        com.blankj.mock.subutil  Blankj_AndroidUtilCode   SubUtilApiMock  \n",
            "3       com.blankj.mock.utilcode  Blankj_AndroidUtilCode  UtilCodeApiMock  \n",
            "4  com.blankj.subutil.export.api  Blankj_AndroidUtilCode       SubUtilApi  \n",
            "\n",
            "--- Method Metrics ---\n",
            "<class 'pandas.core.frame.DataFrame'>\n",
            "RangeIndex: 110982 entries, 0 to 110981\n",
            "Data columns (total 8 columns):\n",
            " #   Column        Non-Null Count   Dtype \n",
            "---  ------        --------------   ----- \n",
            " 0   id            110982 non-null  int64 \n",
            " 1   cc            110982 non-null  int64 \n",
            " 2   loc           110982 non-null  int64 \n",
            " 3   pc            110982 non-null  int64 \n",
            " 4   method_name   110982 non-null  object\n",
            " 5   package_name  110982 non-null  object\n",
            " 6   project_name  110982 non-null  object\n",
            " 7   type_name     110982 non-null  object\n",
            "dtypes: int64(4), object(4)\n",
            "memory usage: 6.8+ MB\n",
            "None\n",
            "   id  cc  loc  pc        method_name             package_name  \\\n",
            "0   1   1    3   0        getInstance  com.blankj.launcher.app   \n",
            "1   2   1    4   0           onCreate  com.blankj.launcher.app   \n",
            "2   3   1    3   0        getInstance      com.blankj.main.app   \n",
            "3   4   1    3   1  attachBaseContext      com.blankj.main.app   \n",
            "4   5   1    4   0           onCreate      com.blankj.main.app   \n",
            "\n",
            "             project_name    type_name  \n",
            "0  Blankj_AndroidUtilCode  LauncherApp  \n",
            "1  Blankj_AndroidUtilCode  LauncherApp  \n",
            "2  Blankj_AndroidUtilCode      MainApp  \n",
            "3  Blankj_AndroidUtilCode      MainApp  \n",
            "4  Blankj_AndroidUtilCode      MainApp  \n",
            "\n",
            "--- Entry ---\n",
            "<class 'pandas.core.frame.DataFrame'>\n",
            "RangeIndex: 207605 entries, 0 to 207604\n",
            "Data columns (total 5 columns):\n",
            " #   Column               Non-Null Count   Dtype\n",
            "---  ------               --------------   -----\n",
            " 0   id                   207605 non-null  int64\n",
            " 1   sampleId             207605 non-null  int64\n",
            " 2   positiveAnnotations  207605 non-null  int64\n",
            " 3   negativeAnnotations  207605 non-null  int64\n",
            " 4   smellPresented       207605 non-null  int64\n",
            "dtypes: int64(5)\n",
            "memory usage: 7.9 MB\n",
            "None\n",
            "     id  sampleId  positiveAnnotations  negativeAnnotations  smellPresented\n",
            "0  4503       619                    0                    0               2\n",
            "1  4504       984                    0                    0               2\n",
            "2  4505       988                    0                    0               2\n",
            "3  4506      1009                    0                    0               2\n",
            "4  4507      1024                    0                    0               2\n",
            "\n",
            "--- Sample ---\n",
            "<class 'pandas.core.frame.DataFrame'>\n",
            "RangeIndex: 99387 entries, 0 to 99386\n",
            "Data columns (total 8 columns):\n",
            " #   Column              Non-Null Count  Dtype \n",
            "---  ------              --------------  ----- \n",
            " 0   id                  99387 non-null  int64 \n",
            " 1   designite_id        99387 non-null  int64 \n",
            " 2   has_smell           99387 non-null  int64 \n",
            " 3   is_class            99387 non-null  int64 \n",
            " 4   path_to_file        99387 non-null  object\n",
            " 5   project_name        99387 non-null  object\n",
            " 6   sample_constraints  99387 non-null  int64 \n",
            " 7   smells              5188 non-null   object\n",
            "dtypes: int64(5), object(3)\n",
            "memory usage: 6.1+ MB\n",
            "None\n",
            "   id  designite_id  has_smell  is_class  \\\n",
            "0   1           370          0         1   \n",
            "1   2           371          0         1   \n",
            "2   3           379          1         1   \n",
            "3   4             7          0         1   \n",
            "4   5             8          0         1   \n",
            "\n",
            "                                        path_to_file            project_name  \\\n",
            "0  /codesplit_java_class/Blankj_AndroidUtilCode/B...  Blankj_AndroidUtilCode   \n",
            "1  /codesplit_java_class/Blankj_AndroidUtilCode/B...  Blankj_AndroidUtilCode   \n",
            "2  /codesplit_java_class/Blankj_AndroidUtilCode/B...  Blankj_AndroidUtilCode   \n",
            "3  /codesplit_java_class/Blankj_AndroidUtilCode/B...  Blankj_AndroidUtilCode   \n",
            "4  /codesplit_java_class/Blankj_AndroidUtilCode/B...  Blankj_AndroidUtilCode   \n",
            "\n",
            "   sample_constraints smells  \n",
            "0                   0    NaN  \n",
            "1                   0    NaN  \n",
            "2                   2      3  \n",
            "3                   0    NaN  \n",
            "4                   0    NaN  \n"
          ]
        }
      ]
    },
    {
      "cell_type": "code",
      "source": [
        "for df in [annotations, class_metrics, method_metrics, entry, sample]:\n",
        "    print(df.columns)\n",
        "## Identifying Common Keys"
      ],
      "metadata": {
        "colab": {
          "base_uri": "https://localhost:8080/"
        },
        "id": "_GUeIi0aydxA",
        "outputId": "545174b5-15fc-4770-af2e-d15b6991ba26"
      },
      "execution_count": null,
      "outputs": [
        {
          "output_type": "stream",
          "name": "stdout",
          "text": [
            "Index(['id', 'iscm', 'isim', 'islp', 'isma', 'is_smell', 'sample_id'], dtype='object')\n",
            "Index(['id', 'dit', 'fanin', 'fanout', 'lcom', 'loc', 'nc', 'nof', 'nom',\n",
            "       'nopf', 'nopm', 'wmc', 'package_name', 'project_name', 'type_name'],\n",
            "      dtype='object')\n",
            "Index(['id', 'cc', 'loc', 'pc', 'method_name', 'package_name', 'project_name',\n",
            "       'type_name'],\n",
            "      dtype='object')\n",
            "Index(['id', 'sampleId', 'positiveAnnotations', 'negativeAnnotations',\n",
            "       'smellPresented'],\n",
            "      dtype='object')\n",
            "Index(['id', 'designite_id', 'has_smell', 'is_class', 'path_to_file',\n",
            "       'project_name', 'sample_constraints', 'smells'],\n",
            "      dtype='object')\n"
          ]
        }
      ]
    },
    {
      "cell_type": "code",
      "source": [
        "for name, df in [(\"Annotations\", annotations), (\"Class Metrics\", class_metrics),\n",
        "                 (\"Method Metrics\", method_metrics), (\"Entry\", entry), (\"Sample\", sample)]:\n",
        "    print(f\"\\n{name} Missing Values:\\n\", df.isnull().sum())\n"
      ],
      "metadata": {
        "colab": {
          "base_uri": "https://localhost:8080/"
        },
        "id": "DZsNq6qkyiHE",
        "outputId": "05139cb0-8742-4006-c742-1a23877ee347"
      },
      "execution_count": null,
      "outputs": [
        {
          "output_type": "stream",
          "name": "stdout",
          "text": [
            "\n",
            "Annotations Missing Values:\n",
            " id           0\n",
            "iscm         0\n",
            "isim         0\n",
            "islp         0\n",
            "isma         0\n",
            "is_smell     0\n",
            "sample_id    0\n",
            "dtype: int64\n",
            "\n",
            "Class Metrics Missing Values:\n",
            " id              0\n",
            "dit             0\n",
            "fanin           0\n",
            "fanout          0\n",
            "lcom            0\n",
            "loc             0\n",
            "nc              0\n",
            "nof             0\n",
            "nom             0\n",
            "nopf            0\n",
            "nopm            0\n",
            "wmc             0\n",
            "package_name    0\n",
            "project_name    0\n",
            "type_name       1\n",
            "dtype: int64\n",
            "\n",
            "Method Metrics Missing Values:\n",
            " id              0\n",
            "cc              0\n",
            "loc             0\n",
            "pc              0\n",
            "method_name     0\n",
            "package_name    0\n",
            "project_name    0\n",
            "type_name       0\n",
            "dtype: int64\n",
            "\n",
            "Entry Missing Values:\n",
            " id                     0\n",
            "sampleId               0\n",
            "positiveAnnotations    0\n",
            "negativeAnnotations    0\n",
            "smellPresented         0\n",
            "dtype: int64\n",
            "\n",
            "Sample Missing Values:\n",
            " id                        0\n",
            "designite_id              0\n",
            "has_smell                 0\n",
            "is_class                  0\n",
            "path_to_file              0\n",
            "project_name              0\n",
            "sample_constraints        0\n",
            "smells                94199\n",
            "dtype: int64\n"
          ]
        }
      ]
    },
    {
      "cell_type": "code",
      "source": [
        "import pandas as pd\n",
        "\n",
        "# Load datasets\n",
        "annotations = pd.read_csv(\"annotation.csv\")\n",
        "class_metrics = pd.read_csv(\"class_metrics.csv\")\n",
        "method_metrics = pd.read_csv(\"method_metrics.csv\")\n",
        "entry = pd.read_csv(\"entry.csv\")\n",
        "sample = pd.read_csv(\"sample.csv\")\n",
        "\n",
        "# Convert column names to lowercase\n",
        "datasets = [annotations, class_metrics, method_metrics, entry, sample]\n",
        "for df in datasets:\n",
        "    df.columns = df.columns.str.lower()\n",
        "\n",
        "# Ensure ID columns are integers\n",
        "id_columns = [\"id\", \"sample_id\", \"sampleid\", \"designite_id\"]\n",
        "for df in datasets:\n",
        "    for col in df.columns:\n",
        "        if col in id_columns:\n",
        "            df[col] = df[col].astype(int)\n"
      ],
      "metadata": {
        "id": "vh8PhwBBAzbW"
      },
      "execution_count": null,
      "outputs": []
    },
    {
      "cell_type": "code",
      "source": [
        "# Fill missing values\n",
        "sample[\"smells\"].fillna(\"None\", inplace=True)\n",
        "class_metrics[\"type_name\"].fillna(\"Unknown\", inplace=True)\n",
        "\n",
        "# Replace -1 in 'lcom' (lack of cohesion metric) with median\n",
        "class_metrics[\"lcom\"] = class_metrics[\"lcom\"].replace(-1, class_metrics[\"lcom\"].median())\n"
      ],
      "metadata": {
        "colab": {
          "base_uri": "https://localhost:8080/"
        },
        "id": "a6sAjr6CA4HH",
        "outputId": "e4f56977-aaec-45cd-a3e8-05c290ad3164"
      },
      "execution_count": null,
      "outputs": [
        {
          "output_type": "stream",
          "name": "stderr",
          "text": [
            "<ipython-input-18-5ea7cbb33bde>:2: FutureWarning: A value is trying to be set on a copy of a DataFrame or Series through chained assignment using an inplace method.\n",
            "The behavior will change in pandas 3.0. This inplace method will never work because the intermediate object on which we are setting values always behaves as a copy.\n",
            "\n",
            "For example, when doing 'df[col].method(value, inplace=True)', try using 'df.method({col: value}, inplace=True)' or df[col] = df[col].method(value) instead, to perform the operation inplace on the original object.\n",
            "\n",
            "\n",
            "  sample[\"smells\"].fillna(\"None\", inplace=True)\n",
            "<ipython-input-18-5ea7cbb33bde>:3: FutureWarning: A value is trying to be set on a copy of a DataFrame or Series through chained assignment using an inplace method.\n",
            "The behavior will change in pandas 3.0. This inplace method will never work because the intermediate object on which we are setting values always behaves as a copy.\n",
            "\n",
            "For example, when doing 'df[col].method(value, inplace=True)', try using 'df.method({col: value}, inplace=True)' or df[col] = df[col].method(value) instead, to perform the operation inplace on the original object.\n",
            "\n",
            "\n",
            "  class_metrics[\"type_name\"].fillna(\"Unknown\", inplace=True)\n"
          ]
        }
      ]
    },
    {
      "cell_type": "code",
      "source": [
        "# Merge annotations with entry\n",
        "merged_df = annotations.merge(entry, left_on=\"sample_id\", right_on=\"sampleid\", how=\"left\")\n",
        "\n",
        "# Merge with sample dataset\n",
        "merged_df = merged_df.merge(sample, left_on=\"sample_id\", right_on=\"id\", how=\"left\", suffixes=(\"_ann\", \"_sample\"))\n",
        "\n",
        "# Merge with class metrics\n",
        "merged_df = merged_df.merge(class_metrics, on=\"id\", how=\"left\")\n",
        "\n",
        "# Merge with method metrics\n",
        "merged_df = merged_df.merge(method_metrics, on=\"id\", how=\"left\", suffixes=(\"_class\", \"_method\"))\n"
      ],
      "metadata": {
        "id": "9BDmHlTQA3_D"
      },
      "execution_count": null,
      "outputs": []
    },
    {
      "cell_type": "code",
      "source": [
        "# Drop duplicate columns after merging\n",
        "merged_df.drop(columns=[\"sample_id\", \"sampleid\"], inplace=True, errors=\"ignore\")\n",
        "\n",
        "# Check for remaining missing values\n",
        "print(merged_df.isnull().sum())\n",
        "\n",
        "# Save the cleaned dataset\n",
        "merged_df.to_csv(\"cleaned_dataset.csv\", index=False)\n"
      ],
      "metadata": {
        "colab": {
          "base_uri": "https://localhost:8080/"
        },
        "id": "p2qPIP3SA_oD",
        "outputId": "42cb01d4-87b1-42f2-ca8d-017a230d8b96"
      },
      "execution_count": null,
      "outputs": [
        {
          "output_type": "stream",
          "name": "stdout",
          "text": [
            "id_x                       0\n",
            "iscm                       0\n",
            "isim                       0\n",
            "islp                       0\n",
            "isma                       0\n",
            "is_smell                   0\n",
            "id_y                     942\n",
            "positiveannotations      942\n",
            "negativeannotations      942\n",
            "smellpresented           942\n",
            "id                         0\n",
            "designite_id               0\n",
            "has_smell                  0\n",
            "is_class                   0\n",
            "path_to_file               0\n",
            "project_name_x             0\n",
            "sample_constraints         0\n",
            "smells                     0\n",
            "dit                    10454\n",
            "fanin                  10454\n",
            "fanout                 10454\n",
            "lcom                   10454\n",
            "loc_class              10454\n",
            "nc                     10454\n",
            "nof                    10454\n",
            "nom                    10454\n",
            "nopf                   10454\n",
            "nopm                   10454\n",
            "wmc                    10454\n",
            "package_name_class     10454\n",
            "project_name_y         10454\n",
            "type_name_class        10454\n",
            "cc                      7550\n",
            "loc_method              7550\n",
            "pc                      7550\n",
            "method_name             7550\n",
            "package_name_method     7550\n",
            "project_name            7550\n",
            "type_name_method        7550\n",
            "dtype: int64\n"
          ]
        }
      ]
    },
    {
      "cell_type": "code",
      "source": [
        "import pandas as pd\n",
        "\n",
        "# Load the dataset\n",
        "df = pd.read_csv(\"cleaned_dataset.csv\")\n",
        "\n",
        "# Display basic info\n",
        "print(df.info())\n",
        "\n",
        "# Check for missing values\n",
        "print(df.isnull().sum())\n",
        "\n",
        "# Display first few rows\n",
        "print(df.head())\n"
      ],
      "metadata": {
        "colab": {
          "base_uri": "https://localhost:8080/"
        },
        "id": "lFkQckviBSJX",
        "outputId": "6bcb6b4f-68c0-4e47-e6a6-b742259b5046"
      },
      "execution_count": null,
      "outputs": [
        {
          "output_type": "stream",
          "name": "stdout",
          "text": [
            "<class 'pandas.core.frame.DataFrame'>\n",
            "RangeIndex: 13513 entries, 0 to 13512\n",
            "Data columns (total 39 columns):\n",
            " #   Column               Non-Null Count  Dtype  \n",
            "---  ------               --------------  -----  \n",
            " 0   id_x                 13513 non-null  int64  \n",
            " 1   iscm                 13513 non-null  int64  \n",
            " 2   isim                 13513 non-null  int64  \n",
            " 3   islp                 13513 non-null  int64  \n",
            " 4   isma                 13513 non-null  int64  \n",
            " 5   is_smell             13513 non-null  int64  \n",
            " 6   id_y                 12571 non-null  float64\n",
            " 7   positiveannotations  12571 non-null  float64\n",
            " 8   negativeannotations  12571 non-null  float64\n",
            " 9   smellpresented       12571 non-null  float64\n",
            " 10  id                   13513 non-null  int64  \n",
            " 11  designite_id         13513 non-null  int64  \n",
            " 12  has_smell            13513 non-null  int64  \n",
            " 13  is_class             13513 non-null  int64  \n",
            " 14  path_to_file         13513 non-null  object \n",
            " 15  project_name_x       13513 non-null  object \n",
            " 16  sample_constraints   13513 non-null  int64  \n",
            " 17  smells               13027 non-null  object \n",
            " 18  dit                  3059 non-null   float64\n",
            " 19  fanin                3059 non-null   float64\n",
            " 20  fanout               3059 non-null   float64\n",
            " 21  lcom                 3059 non-null   float64\n",
            " 22  loc_class            3059 non-null   float64\n",
            " 23  nc                   3059 non-null   float64\n",
            " 24  nof                  3059 non-null   float64\n",
            " 25  nom                  3059 non-null   float64\n",
            " 26  nopf                 3059 non-null   float64\n",
            " 27  nopm                 3059 non-null   float64\n",
            " 28  wmc                  3059 non-null   float64\n",
            " 29  package_name_class   3059 non-null   object \n",
            " 30  project_name_y       3059 non-null   object \n",
            " 31  type_name_class      3059 non-null   object \n",
            " 32  cc                   5963 non-null   float64\n",
            " 33  loc_method           5963 non-null   float64\n",
            " 34  pc                   5963 non-null   float64\n",
            " 35  method_name          5963 non-null   object \n",
            " 36  package_name_method  5963 non-null   object \n",
            " 37  project_name         5963 non-null   object \n",
            " 38  type_name_method     5963 non-null   object \n",
            "dtypes: float64(18), int64(11), object(10)\n",
            "memory usage: 4.0+ MB\n",
            "None\n",
            "id_x                       0\n",
            "iscm                       0\n",
            "isim                       0\n",
            "islp                       0\n",
            "isma                       0\n",
            "is_smell                   0\n",
            "id_y                     942\n",
            "positiveannotations      942\n",
            "negativeannotations      942\n",
            "smellpresented           942\n",
            "id                         0\n",
            "designite_id               0\n",
            "has_smell                  0\n",
            "is_class                   0\n",
            "path_to_file               0\n",
            "project_name_x             0\n",
            "sample_constraints         0\n",
            "smells                   486\n",
            "dit                    10454\n",
            "fanin                  10454\n",
            "fanout                 10454\n",
            "lcom                   10454\n",
            "loc_class              10454\n",
            "nc                     10454\n",
            "nof                    10454\n",
            "nom                    10454\n",
            "nopf                   10454\n",
            "nopm                   10454\n",
            "wmc                    10454\n",
            "package_name_class     10454\n",
            "project_name_y         10454\n",
            "type_name_class        10454\n",
            "cc                      7550\n",
            "loc_method              7550\n",
            "pc                      7550\n",
            "method_name             7550\n",
            "package_name_method     7550\n",
            "project_name            7550\n",
            "type_name_method        7550\n",
            "dtype: int64\n",
            "    id_x  iscm  isim  islp  isma  is_smell      id_y  positiveannotations  \\\n",
            "0  11940     1     0     0     0         1       NaN                  NaN   \n",
            "1  11939     0     0     0     0         0  126175.0                  0.0   \n",
            "2  11938     1     0     0     0         1       NaN                  NaN   \n",
            "3  11937     0     0     0     0         0  257873.0                  0.0   \n",
            "4  11936     1     0     0     0         1    4697.0                  0.0   \n",
            "\n",
            "   negativeannotations  smellpresented  ...  package_name_class  \\\n",
            "0                  NaN             NaN  ...                 NaN   \n",
            "1                  0.0             5.0  ...                 NaN   \n",
            "2                  NaN             NaN  ...                 NaN   \n",
            "3                  0.0             6.0  ...                 NaN   \n",
            "4                  0.0             2.0  ...                 NaN   \n",
            "\n",
            "   project_name_y  type_name_class  cc loc_method  pc  method_name  \\\n",
            "0             NaN              NaN NaN        NaN NaN          NaN   \n",
            "1             NaN              NaN NaN        NaN NaN          NaN   \n",
            "2             NaN              NaN NaN        NaN NaN          NaN   \n",
            "3             NaN              NaN NaN        NaN NaN          NaN   \n",
            "4             NaN              NaN NaN        NaN NaN          NaN   \n",
            "\n",
            "  package_name_method  project_name  type_name_method  \n",
            "0                 NaN           NaN               NaN  \n",
            "1                 NaN           NaN               NaN  \n",
            "2                 NaN           NaN               NaN  \n",
            "3                 NaN           NaN               NaN  \n",
            "4                 NaN           NaN               NaN  \n",
            "\n",
            "[5 rows x 39 columns]\n"
          ]
        }
      ]
    },
    {
      "cell_type": "code",
      "source": [
        "# Fill missing numerical values with the median\n",
        "df.fillna(df.median(numeric_only=True), inplace=True)\n",
        "\n",
        "# Fill missing categorical values with mode\n",
        "for col in df.select_dtypes(include=[\"object\"]):\n",
        "    df[col].fillna(df[col].mode()[0], inplace=True)\n",
        "\n",
        "# Verify missing values again\n",
        "print(df.isnull().sum())\n"
      ],
      "metadata": {
        "colab": {
          "base_uri": "https://localhost:8080/"
        },
        "id": "a3bvwiI3BWHD",
        "outputId": "936ed875-2642-4cf4-92b7-9199dad7aed8"
      },
      "execution_count": null,
      "outputs": [
        {
          "output_type": "stream",
          "name": "stdout",
          "text": [
            "id_x                   0\n",
            "iscm                   0\n",
            "isim                   0\n",
            "islp                   0\n",
            "isma                   0\n",
            "is_smell               0\n",
            "id_y                   0\n",
            "positiveannotations    0\n",
            "negativeannotations    0\n",
            "smellpresented         0\n",
            "id                     0\n",
            "designite_id           0\n",
            "has_smell              0\n",
            "is_class               0\n",
            "path_to_file           0\n",
            "project_name_x         0\n",
            "sample_constraints     0\n",
            "smells                 0\n",
            "dit                    0\n",
            "fanin                  0\n",
            "fanout                 0\n",
            "lcom                   0\n",
            "loc_class              0\n",
            "nc                     0\n",
            "nof                    0\n",
            "nom                    0\n",
            "nopf                   0\n",
            "nopm                   0\n",
            "wmc                    0\n",
            "package_name_class     0\n",
            "project_name_y         0\n",
            "type_name_class        0\n",
            "cc                     0\n",
            "loc_method             0\n",
            "pc                     0\n",
            "method_name            0\n",
            "package_name_method    0\n",
            "project_name           0\n",
            "type_name_method       0\n",
            "dtype: int64\n"
          ]
        },
        {
          "output_type": "stream",
          "name": "stderr",
          "text": [
            "<ipython-input-22-cce45581db8d>:6: FutureWarning: A value is trying to be set on a copy of a DataFrame or Series through chained assignment using an inplace method.\n",
            "The behavior will change in pandas 3.0. This inplace method will never work because the intermediate object on which we are setting values always behaves as a copy.\n",
            "\n",
            "For example, when doing 'df[col].method(value, inplace=True)', try using 'df.method({col: value}, inplace=True)' or df[col] = df[col].method(value) instead, to perform the operation inplace on the original object.\n",
            "\n",
            "\n",
            "  df[col].fillna(df[col].mode()[0], inplace=True)\n"
          ]
        }
      ]
    },
    {
      "cell_type": "code",
      "source": [
        "import pandas as pd\n",
        "\n",
        "# Load datasets\n",
        "annotations = pd.read_csv(\"annotations.csv\")\n",
        "class_metrics = pd.read_csv(\"class_metrics.csv\")\n",
        "method_metrics = pd.read_csv(\"method_metrics.csv\")\n",
        "entry = pd.read_csv(\"entry.csv\")\n",
        "sample = pd.read_csv(\"sample.csv\")\n",
        "\n",
        "# Convert column names to lowercase\n",
        "datasets = [annotations, class_metrics, method_metrics, entry, sample]\n",
        "for df in datasets:\n",
        "    df.columns = df.columns.str.lower()\n",
        "\n",
        "# Ensure ID columns are integers\n",
        "id_columns = [\"id\", \"sample_id\", \"sampleid\", \"designite_id\"]\n",
        "for df in datasets:\n",
        "    for col in df.columns:\n",
        "        if col in id_columns:\n",
        "            df[col] = df[col].astype(int)\n",
        "\n",
        "# Fill missing values\n",
        "sample[\"smells\"].fillna(\"None\", inplace=True)\n",
        "class_metrics[\"type_name\"].fillna(\"Unknown\", inplace=True)\n",
        "\n",
        "# Replace -1 in 'lcom' (lack of cohesion metric) with median\n",
        "class_metrics[\"lcom\"] = class_metrics[\"lcom\"].replace(-1, class_metrics[\"lcom\"].median())\n",
        "\n",
        "# Merge annotations with entry\n",
        "merged_annotations = annotations.merge(entry, left_on=\"sample_id\", right_on=\"sampleid\", how=\"left\")\n",
        "\n",
        "# Merge with sample dataset\n",
        "merged_annotations = merged_annotations.merge(sample, left_on=\"sample_id\", right_on=\"id\", how=\"left\", suffixes=(\"_ann\", \"_sample\"))\n",
        "\n",
        "# Separate class-based data\n",
        "class_based_data = merged_annotations.merge(class_metrics, on=\"id\", how=\"left\")\n",
        "\n",
        "# Separate method-based data\n",
        "method_based_data = merged_annotations.merge(method_metrics, on=\"id\", how=\"left\")\n",
        "\n",
        "# Drop duplicate columns after merging\n",
        "class_based_data.drop(columns=[\"sample_id\", \"sampleid\"], inplace=True, errors=\"ignore\")\n",
        "method_based_data.drop(columns=[\"sample_id\", \"sampleid\"], inplace=True, errors=\"ignore\")\n",
        "\n",
        "# Save separate datasets\n",
        "class_based_data.to_csv(\"class_based_data.csv\", index=False)\n",
        "method_based_data.to_csv(\"method_based_data.csv\", index=False)\n",
        "\n",
        "print(\"Class-based and method-based datasets saved successfully.\")\n"
      ],
      "metadata": {
        "colab": {
          "base_uri": "https://localhost:8080/"
        },
        "id": "eIiXAcAsNeAC",
        "outputId": "1d8f1346-8e8e-4552-8ebb-7ad8fdc384fc"
      },
      "execution_count": 2,
      "outputs": [
        {
          "output_type": "stream",
          "name": "stderr",
          "text": [
            "<ipython-input-2-95bf2bd522c5>:23: FutureWarning: A value is trying to be set on a copy of a DataFrame or Series through chained assignment using an inplace method.\n",
            "The behavior will change in pandas 3.0. This inplace method will never work because the intermediate object on which we are setting values always behaves as a copy.\n",
            "\n",
            "For example, when doing 'df[col].method(value, inplace=True)', try using 'df.method({col: value}, inplace=True)' or df[col] = df[col].method(value) instead, to perform the operation inplace on the original object.\n",
            "\n",
            "\n",
            "  sample[\"smells\"].fillna(\"None\", inplace=True)\n",
            "<ipython-input-2-95bf2bd522c5>:24: FutureWarning: A value is trying to be set on a copy of a DataFrame or Series through chained assignment using an inplace method.\n",
            "The behavior will change in pandas 3.0. This inplace method will never work because the intermediate object on which we are setting values always behaves as a copy.\n",
            "\n",
            "For example, when doing 'df[col].method(value, inplace=True)', try using 'df.method({col: value}, inplace=True)' or df[col] = df[col].method(value) instead, to perform the operation inplace on the original object.\n",
            "\n",
            "\n",
            "  class_metrics[\"type_name\"].fillna(\"Unknown\", inplace=True)\n"
          ]
        },
        {
          "output_type": "stream",
          "name": "stdout",
          "text": [
            "Class-based and method-based datasets saved successfully.\n"
          ]
        }
      ]
    },
    {
      "cell_type": "code",
      "source": [
        "import pandas as pd\n",
        "import numpy as np\n",
        "from imblearn.over_sampling import SMOTE\n",
        "from sklearn.model_selection import train_test_split\n",
        "from sklearn.impute import SimpleImputer\n",
        "\n",
        "# Load dataset\n",
        "class_data = pd.read_csv(\"class_based_data.csv\")\n",
        "\n",
        "# Ensure 'has_smell' is binary (1 = smell, 0 = no smell)\n",
        "class_data[\"has_smell\"] = class_data[\"has_smell\"].astype(int)\n",
        "\n",
        "# Drop non-numeric columns\n",
        "non_numeric_columns = [\"id\", \"path_to_file\", \"project_name_x\", \"package_name_class\", \"type_name_class\", \"smells\"]\n",
        "X = class_data.drop(columns=[\"has_smell\"] + non_numeric_columns, errors=\"ignore\")\n",
        "\n",
        "# Convert all columns to numeric, handling errors\n",
        "X = X.apply(pd.to_numeric, errors=\"coerce\")  # Convert and coerce errors to NaN\n",
        "\n",
        "# **Fix: Drop columns where ALL values are NaN**\n",
        "X = X.dropna(axis=1, how=\"all\")\n",
        "\n",
        "# **Fix: Replace remaining NaNs with median values**\n",
        "imputer = SimpleImputer(strategy=\"median\")\n",
        "X_imputed = pd.DataFrame(imputer.fit_transform(X), columns=X.columns)\n",
        "\n",
        "# Target variable\n",
        "y = class_data[\"has_smell\"]\n",
        "\n",
        "# Split into training and testing sets\n",
        "X_train, X_test, y_train, y_test = train_test_split(X_imputed, y, test_size=0.2, random_state=42, stratify=y)\n",
        "\n",
        "# Apply SMOTE to balance the training set\n",
        "smote = SMOTE(sampling_strategy=\"auto\", random_state=42)\n",
        "X_train_resampled, y_train_resampled = smote.fit_resample(X_train, y_train)\n",
        "\n",
        "# Convert back to DataFrame\n",
        "balanced_class_data = pd.concat([pd.DataFrame(X_train_resampled, columns=X_imputed.columns), pd.DataFrame(y_train_resampled, columns=[\"has_smell\"])], axis=1)\n",
        "\n",
        "# Save the balanced dataset\n",
        "balanced_class_data.to_csv(\"balanced_class_data.csv\", index=False)\n",
        "\n",
        "print(\"Balanced dataset saved successfully.\")\n"
      ],
      "metadata": {
        "colab": {
          "base_uri": "https://localhost:8080/"
        },
        "id": "nWg2LI9gNotH",
        "outputId": "dbe3eb8d-ce4d-4ed4-eae1-c01b9aeb3da8"
      },
      "execution_count": 8,
      "outputs": [
        {
          "output_type": "stream",
          "name": "stdout",
          "text": [
            "Balanced dataset saved successfully.\n"
          ]
        }
      ]
    },
    {
      "cell_type": "code",
      "source": [
        "import pandas as pd\n",
        "\n",
        "# Load datasets\n",
        "df = pd.read_csv(\"balanced_class_data.csv\")\n",
        "print(df.head())"
      ],
      "metadata": {
        "colab": {
          "base_uri": "https://localhost:8080/"
        },
        "id": "os8XaMnuPiXc",
        "outputId": "c4ca08dc-70c8-4330-bd7b-674515ed14c8"
      },
      "execution_count": 11,
      "outputs": [
        {
          "output_type": "stream",
          "name": "stdout",
          "text": [
            "      id_x  iscm  isim  islp  isma  is_smell      id_y  positiveannotations  \\\n",
            "0   3423.0   0.0   0.0   0.0   0.0       0.0  176817.0                  0.0   \n",
            "1    895.0   1.0   0.0   0.0   0.0       1.0   46618.0                  0.0   \n",
            "2  11340.0   0.0   0.0   0.0   0.0       0.0  247888.0                  0.0   \n",
            "3   5109.0   0.0   0.0   0.0   1.0       1.0  220052.0                  0.0   \n",
            "4  10984.0   0.0   0.0   1.0   0.0       1.0   10849.0                  0.0   \n",
            "\n",
            "   negativeannotations  smellpresented  ...  fanout  lcom    loc   nc   nof  \\\n",
            "0                  0.0             6.0  ...     2.0   0.0   14.0  0.0   0.0   \n",
            "1                  0.0             5.0  ...     4.0   0.0    6.0  5.0   0.0   \n",
            "2                  0.0             6.0  ...     1.0   0.0   24.0  0.0   1.0   \n",
            "3                  0.0             6.0  ...     1.0   0.0   24.0  0.0   1.0   \n",
            "4                  0.0             4.0  ...    10.0   0.0  195.0  0.0  17.0   \n",
            "\n",
            "    nom  nopf  nopm   wmc  has_smell  \n",
            "0   3.0   0.0   1.0   3.0          1  \n",
            "1   1.0   0.0   1.0   1.0          1  \n",
            "2   3.0   0.0   2.0   4.0          1  \n",
            "3   3.0   0.0   2.0   4.0          1  \n",
            "4  10.0   1.0  10.0  11.0          0  \n",
            "\n",
            "[5 rows x 25 columns]\n"
          ]
        }
      ]
    }
  ],
  "metadata": {
    "colab": {
      "provenance": [],
      "authorship_tag": "ABX9TyPxu8g2PZAYp1rdA4l6Hn4Z",
      "include_colab_link": true
    },
    "kernelspec": {
      "display_name": "Python 3",
      "name": "python3"
    },
    "language_info": {
      "name": "python"
    }
  },
  "nbformat": 4,
  "nbformat_minor": 0
}